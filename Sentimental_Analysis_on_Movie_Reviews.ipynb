{
  "nbformat": 4,
  "nbformat_minor": 0,
  "metadata": {
    "colab": {
      "name": "Sentimental-Analysis-on-Movie_Reviews.ipynb",
      "provenance": [],
      "collapsed_sections": [],
      "machine_shape": "hm",
      "include_colab_link": true
    },
    "kernelspec": {
      "display_name": "Python 3",
      "name": "python3"
    },
    "language_info": {
      "name": "python"
    }
  },
  "cells": [
    {
      "cell_type": "markdown",
      "metadata": {
        "id": "view-in-github",
        "colab_type": "text"
      },
      "source": [
        "<a href=\"https://colab.research.google.com/github/blacktruth513/Sentimental-Analysis-on-Movie_Reviews/blob/main/Sentimental_Analysis_on_Movie_Reviews.ipynb\" target=\"_parent\"><img src=\"https://colab.research.google.com/assets/colab-badge.svg\" alt=\"Open In Colab\"/></a>"
      ]
    },
    {
      "cell_type": "code",
      "metadata": {
        "id": "fh4vRjqBAtgt",
        "colab": {
          "resources": {
            "http://localhost:8080/nbextensions/google.colab/files.js": {
              "data": "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",
              "ok": true,
              "headers": [
                [
                  "content-type",
                  "application/javascript"
                ]
              ],
              "status": 200,
              "status_text": ""
            }
          },
          "base_uri": "https://localhost:8080/",
          "height": 351
        },
        "outputId": "cee4fa2d-6452-4bfa-82fe-cbd170d6fa7d"
      },
      "source": [
        "!pip install kaggle\n",
        "from google.colab import files\n",
        "files.upload()\n",
        "!mkdir -p ~/.kaggle\n",
        "!cp kaggle.json ~/.kaggle/\n",
        "!chmod 600 ~/.kaggle/kaggle.json\n",
        "!kaggle datasets download -d utmhikari/doubanmovieshortcomments\n",
        "!unzip doubanmovieshortcomments.zip"
      ],
      "execution_count": 1,
      "outputs": [
        {
          "output_type": "stream",
          "name": "stdout",
          "text": [
            "Requirement already satisfied: kaggle in /usr/local/lib/python3.7/dist-packages (1.5.12)\n",
            "Requirement already satisfied: certifi in /usr/local/lib/python3.7/dist-packages (from kaggle) (2021.10.8)\n",
            "Requirement already satisfied: tqdm in /usr/local/lib/python3.7/dist-packages (from kaggle) (4.62.3)\n",
            "Requirement already satisfied: six>=1.10 in /usr/local/lib/python3.7/dist-packages (from kaggle) (1.15.0)\n",
            "Requirement already satisfied: python-dateutil in /usr/local/lib/python3.7/dist-packages (from kaggle) (2.8.2)\n",
            "Requirement already satisfied: requests in /usr/local/lib/python3.7/dist-packages (from kaggle) (2.23.0)\n",
            "Requirement already satisfied: urllib3 in /usr/local/lib/python3.7/dist-packages (from kaggle) (1.24.3)\n",
            "Requirement already satisfied: python-slugify in /usr/local/lib/python3.7/dist-packages (from kaggle) (5.0.2)\n",
            "Requirement already satisfied: text-unidecode>=1.3 in /usr/local/lib/python3.7/dist-packages (from python-slugify->kaggle) (1.3)\n",
            "Requirement already satisfied: chardet<4,>=3.0.2 in /usr/local/lib/python3.7/dist-packages (from requests->kaggle) (3.0.4)\n",
            "Requirement already satisfied: idna<3,>=2.5 in /usr/local/lib/python3.7/dist-packages (from requests->kaggle) (2.10)\n"
          ]
        },
        {
          "output_type": "display_data",
          "data": {
            "text/html": [
              "\n",
              "     <input type=\"file\" id=\"files-a0028840-9812-4088-88d2-ce3520a72292\" name=\"files[]\" multiple disabled\n",
              "        style=\"border:none\" />\n",
              "     <output id=\"result-a0028840-9812-4088-88d2-ce3520a72292\">\n",
              "      Upload widget is only available when the cell has been executed in the\n",
              "      current browser session. Please rerun this cell to enable.\n",
              "      </output>\n",
              "      <script src=\"/nbextensions/google.colab/files.js\"></script> "
            ],
            "text/plain": [
              "<IPython.core.display.HTML object>"
            ]
          },
          "metadata": {}
        },
        {
          "output_type": "stream",
          "name": "stdout",
          "text": [
            "Saving kaggle.json to kaggle.json\n",
            "Downloading doubanmovieshortcomments.zip to /content\n",
            " 92% 132M/144M [00:01<00:00, 83.5MB/s]\n",
            "100% 144M/144M [00:01<00:00, 106MB/s] \n",
            "Archive:  doubanmovieshortcomments.zip\n",
            "  inflating: DMSC.csv                \n"
          ]
        }
      ]
    },
    {
      "cell_type": "markdown",
      "metadata": {
        "id": "4oeQFVFSAHXc"
      },
      "source": [
        " <img src='https://i.imgur.com/RDAD11M.png' width = '200' align = 'right'>\n",
        "\n",
        "# Section4 Project\n",
        "\n",
        "---\n",
        "\n",
        "#<center> **<딥러닝 기반 豆瓣 영화 리뷰 NLP 감정 분석 프로젝트>** </center>\n",
        "\n",
        "---\n",
        "<br>\n",
        "\n",
        "##- 프로젝트 순서 - \n",
        "<br>\n",
        "\n",
        "1.  프로젝트 주제  \n",
        "<br>\n",
        "\n",
        "2. 데이터 선정 이유 및 데이터 소개 / 프로젝트 문제 정의 \n",
        "<br>\n",
        "\n",
        "3. 데이터 전처리 \n",
        "<br> \n",
        "<br>\n",
        "\n",
        "4. 데이터 모델링 준비 \n",
        "<br>\n",
        "\n",
        "5. 데이터 모델링 및 모델 해석\n",
        "<br>\n",
        "\n",
        "6. 데이터 예측 및 결론 \n",
        "<br>\n",
        "<br>\n",
        "\n",
        "\n"
      ]
    },
    {
      "cell_type": "markdown",
      "metadata": {
        "id": "rhUw2yP-sn-s"
      },
      "source": [
        "# 1. 프로젝트 주제 \n",
        "\n",
        "\n",
        "- 주어진 데이터를 활용하여 NLP 모델을 기반으로 영화 리뷰 내용의 평점에 대한 감정 분석(분류)을 실시한다.  "
      ]
    },
    {
      "cell_type": "markdown",
      "metadata": {
        "id": "XP1o05mAuGKn"
      },
      "source": [
        "# 2. 데이터 선정 이유 및 데이터 소개 / 프로젝트 문제 정의\n",
        "\n",
        "![douban.png](data:image/png;base64,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)\n",
        "\n",
        "- 豆瓣电影은 중국의 영화 종합 사이트로서, 약 210만 개의 영화 리뷰, 평점 데이터를 사용하여 이번 섹션에서 배운 딥러닝 개념을 적용하여 일반적으로 쓰이는 영어 데이터가 아닌 중국어 데이터를 활용한 프로젝트를 수행함으로서, NLP(자연어 처리) 모델에 대한 이해를 확장시키는데 그 목적이 있다. \n",
        "\n",
        "- 문제 정의 : 주어진 데이터 타겟 변수인 평점에 대해 생성한 딥러닝 모델을 사용하여 특성 변수인 리뷰 데이터가 얼마나 특정 리뷰의 평점을 잘 예측하는지 진행하려고한다. "
      ]
    },
    {
      "cell_type": "code",
      "metadata": {
        "colab": {
          "base_uri": "https://localhost:8080/"
        },
        "id": "zlI0QUJEDuDp",
        "outputId": "1371dc69-cfca-4887-f4d9-12aef62a99c0"
      },
      "source": [
        "import pandas as pd\n",
        "from google.colab import drive\n",
        "drive.mount('/content/drive')"
      ],
      "execution_count": 2,
      "outputs": [
        {
          "output_type": "stream",
          "name": "stdout",
          "text": [
            "Mounted at /content/drive\n"
          ]
        }
      ]
    },
    {
      "cell_type": "code",
      "metadata": {
        "id": "EbKCw6J8BJI_"
      },
      "source": [
        "df = pd.read_csv('./DMSC.csv', low_memory=False)"
      ],
      "execution_count": 3,
      "outputs": []
    },
    {
      "cell_type": "code",
      "metadata": {
        "colab": {
          "base_uri": "https://localhost:8080/",
          "height": 641
        },
        "id": "-_G7Wx6oFP_g",
        "outputId": "a4804ad7-20aa-4e79-a8b2-b5819250485c"
      },
      "source": [
        "df"
      ],
      "execution_count": 5,
      "outputs": [
        {
          "output_type": "execute_result",
          "data": {
            "text/html": [
              "\n",
              "  <div id=\"df-054fa582-2375-4961-bf26-9e4dd5abac9d\">\n",
              "    <div class=\"colab-df-container\">\n",
              "      <div>\n",
              "<style scoped>\n",
              "    .dataframe tbody tr th:only-of-type {\n",
              "        vertical-align: middle;\n",
              "    }\n",
              "\n",
              "    .dataframe tbody tr th {\n",
              "        vertical-align: top;\n",
              "    }\n",
              "\n",
              "    .dataframe thead th {\n",
              "        text-align: right;\n",
              "    }\n",
              "</style>\n",
              "<table border=\"1\" class=\"dataframe\">\n",
              "  <thead>\n",
              "    <tr style=\"text-align: right;\">\n",
              "      <th></th>\n",
              "      <th>ID</th>\n",
              "      <th>Movie_Name_EN</th>\n",
              "      <th>Movie_Name_CN</th>\n",
              "      <th>Crawl_Date</th>\n",
              "      <th>Number</th>\n",
              "      <th>Username</th>\n",
              "      <th>Date</th>\n",
              "      <th>Star</th>\n",
              "      <th>Comment</th>\n",
              "      <th>Like</th>\n",
              "    </tr>\n",
              "  </thead>\n",
              "  <tbody>\n",
              "    <tr>\n",
              "      <th>0</th>\n",
              "      <td>0</td>\n",
              "      <td>Avengers Age of Ultron</td>\n",
              "      <td>复仇者联盟2</td>\n",
              "      <td>2017-01-22</td>\n",
              "      <td>1</td>\n",
              "      <td>然潘</td>\n",
              "      <td>2015-05-13</td>\n",
              "      <td>3</td>\n",
              "      <td>连奥创都知道整容要去韩国。</td>\n",
              "      <td>2404</td>\n",
              "    </tr>\n",
              "    <tr>\n",
              "      <th>1</th>\n",
              "      <td>1</td>\n",
              "      <td>Avengers Age of Ultron</td>\n",
              "      <td>复仇者联盟2</td>\n",
              "      <td>2017-01-22</td>\n",
              "      <td>2</td>\n",
              "      <td>更深的白色</td>\n",
              "      <td>2015-04-24</td>\n",
              "      <td>2</td>\n",
              "      <td>非常失望，剧本完全敷衍了事，主线剧情没突破大家可以理解，可所有的人物都缺乏动机，正邪之间、...</td>\n",
              "      <td>1231</td>\n",
              "    </tr>\n",
              "    <tr>\n",
              "      <th>2</th>\n",
              "      <td>2</td>\n",
              "      <td>Avengers Age of Ultron</td>\n",
              "      <td>复仇者联盟2</td>\n",
              "      <td>2017-01-22</td>\n",
              "      <td>3</td>\n",
              "      <td>有意识的贱民</td>\n",
              "      <td>2015-04-26</td>\n",
              "      <td>2</td>\n",
              "      <td>2015年度最失望作品。以为面面俱到，实则画蛇添足；以为主题深刻，实则老调重弹；以为推陈出...</td>\n",
              "      <td>1052</td>\n",
              "    </tr>\n",
              "    <tr>\n",
              "      <th>3</th>\n",
              "      <td>3</td>\n",
              "      <td>Avengers Age of Ultron</td>\n",
              "      <td>复仇者联盟2</td>\n",
              "      <td>2017-01-22</td>\n",
              "      <td>4</td>\n",
              "      <td>不老的李大爷耶</td>\n",
              "      <td>2015-04-23</td>\n",
              "      <td>4</td>\n",
              "      <td>《铁人2》中勾引钢铁侠，《妇联1》中勾引鹰眼，《美队2》中勾引美国队长，在《妇联2》中终于...</td>\n",
              "      <td>1045</td>\n",
              "    </tr>\n",
              "    <tr>\n",
              "      <th>4</th>\n",
              "      <td>4</td>\n",
              "      <td>Avengers Age of Ultron</td>\n",
              "      <td>复仇者联盟2</td>\n",
              "      <td>2017-01-22</td>\n",
              "      <td>5</td>\n",
              "      <td>ZephyrO</td>\n",
              "      <td>2015-04-22</td>\n",
              "      <td>2</td>\n",
              "      <td>虽然从头打到尾，但是真的很无聊啊。</td>\n",
              "      <td>723</td>\n",
              "    </tr>\n",
              "    <tr>\n",
              "      <th>...</th>\n",
              "      <td>...</td>\n",
              "      <td>...</td>\n",
              "      <td>...</td>\n",
              "      <td>...</td>\n",
              "      <td>...</td>\n",
              "      <td>...</td>\n",
              "      <td>...</td>\n",
              "      <td>...</td>\n",
              "      <td>...</td>\n",
              "      <td>...</td>\n",
              "    </tr>\n",
              "    <tr>\n",
              "      <th>2125051</th>\n",
              "      <td>2125051</td>\n",
              "      <td>Zootopia</td>\n",
              "      <td>疯狂动物城</td>\n",
              "      <td>2017-01-04</td>\n",
              "      <td>141196</td>\n",
              "      <td>猫的烟火尾巴</td>\n",
              "      <td>2016-03-06</td>\n",
              "      <td>4</td>\n",
              "      <td>真好看 兔子警官又美有善良又可爱~简直理想结婚对象！每一个动物造型都是那么赞~</td>\n",
              "      <td>0</td>\n",
              "    </tr>\n",
              "    <tr>\n",
              "      <th>2125052</th>\n",
              "      <td>2125052</td>\n",
              "      <td>Zootopia</td>\n",
              "      <td>疯狂动物城</td>\n",
              "      <td>2017-01-04</td>\n",
              "      <td>141197</td>\n",
              "      <td>Tosta</td>\n",
              "      <td>2016-03-05</td>\n",
              "      <td>5</td>\n",
              "      <td>六星好评！像头脑特工队那样惊喜！</td>\n",
              "      <td>0</td>\n",
              "    </tr>\n",
              "    <tr>\n",
              "      <th>2125053</th>\n",
              "      <td>2125053</td>\n",
              "      <td>Zootopia</td>\n",
              "      <td>疯狂动物城</td>\n",
              "      <td>2017-01-04</td>\n",
              "      <td>141198</td>\n",
              "      <td>風立ちぬ</td>\n",
              "      <td>2016-03-11</td>\n",
              "      <td>4</td>\n",
              "      <td>欢乐而又深刻，是童话故事更是政治寓言。</td>\n",
              "      <td>0</td>\n",
              "    </tr>\n",
              "    <tr>\n",
              "      <th>2125054</th>\n",
              "      <td>2125054</td>\n",
              "      <td>Zootopia</td>\n",
              "      <td>疯狂动物城</td>\n",
              "      <td>2017-01-04</td>\n",
              "      <td>141199</td>\n",
              "      <td>P I T T</td>\n",
              "      <td>2016-03-05</td>\n",
              "      <td>5</td>\n",
              "      <td>对现实世界歧视和偏见的影射妙哉妙哉，不要害怕打破常规，try everything</td>\n",
              "      <td>0</td>\n",
              "    </tr>\n",
              "    <tr>\n",
              "      <th>2125055</th>\n",
              "      <td>2125055</td>\n",
              "      <td>Zootopia</td>\n",
              "      <td>疯狂动物城</td>\n",
              "      <td>2017-01-04</td>\n",
              "      <td>141200</td>\n",
              "      <td>普赖尔蒂斯</td>\n",
              "      <td>2016-03-06</td>\n",
              "      <td>5</td>\n",
              "      <td>萌物包装的政治正确片，那个叫Doug穿黄衫戴防毒面具的绵羊的助手叫Walter和Jessi...</td>\n",
              "      <td>0</td>\n",
              "    </tr>\n",
              "  </tbody>\n",
              "</table>\n",
              "<p>2125056 rows × 10 columns</p>\n",
              "</div>\n",
              "      <button class=\"colab-df-convert\" onclick=\"convertToInteractive('df-054fa582-2375-4961-bf26-9e4dd5abac9d')\"\n",
              "              title=\"Convert this dataframe to an interactive table.\"\n",
              "              style=\"display:none;\">\n",
              "        \n",
              "  <svg xmlns=\"http://www.w3.org/2000/svg\" height=\"24px\"viewBox=\"0 0 24 24\"\n",
              "       width=\"24px\">\n",
              "    <path d=\"M0 0h24v24H0V0z\" fill=\"none\"/>\n",
              "    <path d=\"M18.56 5.44l.94 2.06.94-2.06 2.06-.94-2.06-.94-.94-2.06-.94 2.06-2.06.94zm-11 1L8.5 8.5l.94-2.06 2.06-.94-2.06-.94L8.5 2.5l-.94 2.06-2.06.94zm10 10l.94 2.06.94-2.06 2.06-.94-2.06-.94-.94-2.06-.94 2.06-2.06.94z\"/><path d=\"M17.41 7.96l-1.37-1.37c-.4-.4-.92-.59-1.43-.59-.52 0-1.04.2-1.43.59L10.3 9.45l-7.72 7.72c-.78.78-.78 2.05 0 2.83L4 21.41c.39.39.9.59 1.41.59.51 0 1.02-.2 1.41-.59l7.78-7.78 2.81-2.81c.8-.78.8-2.07 0-2.86zM5.41 20L4 18.59l7.72-7.72 1.47 1.35L5.41 20z\"/>\n",
              "  </svg>\n",
              "      </button>\n",
              "      \n",
              "  <style>\n",
              "    .colab-df-container {\n",
              "      display:flex;\n",
              "      flex-wrap:wrap;\n",
              "      gap: 12px;\n",
              "    }\n",
              "\n",
              "    .colab-df-convert {\n",
              "      background-color: #E8F0FE;\n",
              "      border: none;\n",
              "      border-radius: 50%;\n",
              "      cursor: pointer;\n",
              "      display: none;\n",
              "      fill: #1967D2;\n",
              "      height: 32px;\n",
              "      padding: 0 0 0 0;\n",
              "      width: 32px;\n",
              "    }\n",
              "\n",
              "    .colab-df-convert:hover {\n",
              "      background-color: #E2EBFA;\n",
              "      box-shadow: 0px 1px 2px rgba(60, 64, 67, 0.3), 0px 1px 3px 1px rgba(60, 64, 67, 0.15);\n",
              "      fill: #174EA6;\n",
              "    }\n",
              "\n",
              "    [theme=dark] .colab-df-convert {\n",
              "      background-color: #3B4455;\n",
              "      fill: #D2E3FC;\n",
              "    }\n",
              "\n",
              "    [theme=dark] .colab-df-convert:hover {\n",
              "      background-color: #434B5C;\n",
              "      box-shadow: 0px 1px 3px 1px rgba(0, 0, 0, 0.15);\n",
              "      filter: drop-shadow(0px 1px 2px rgba(0, 0, 0, 0.3));\n",
              "      fill: #FFFFFF;\n",
              "    }\n",
              "  </style>\n",
              "\n",
              "      <script>\n",
              "        const buttonEl =\n",
              "          document.querySelector('#df-054fa582-2375-4961-bf26-9e4dd5abac9d button.colab-df-convert');\n",
              "        buttonEl.style.display =\n",
              "          google.colab.kernel.accessAllowed ? 'block' : 'none';\n",
              "\n",
              "        async function convertToInteractive(key) {\n",
              "          const element = document.querySelector('#df-054fa582-2375-4961-bf26-9e4dd5abac9d');\n",
              "          const dataTable =\n",
              "            await google.colab.kernel.invokeFunction('convertToInteractive',\n",
              "                                                     [key], {});\n",
              "          if (!dataTable) return;\n",
              "\n",
              "          const docLinkHtml = 'Like what you see? Visit the ' +\n",
              "            '<a target=\"_blank\" href=https://colab.research.google.com/notebooks/data_table.ipynb>data table notebook</a>'\n",
              "            + ' to learn more about interactive tables.';\n",
              "          element.innerHTML = '';\n",
              "          dataTable['output_type'] = 'display_data';\n",
              "          await google.colab.output.renderOutput(dataTable, element);\n",
              "          const docLink = document.createElement('div');\n",
              "          docLink.innerHTML = docLinkHtml;\n",
              "          element.appendChild(docLink);\n",
              "        }\n",
              "      </script>\n",
              "    </div>\n",
              "  </div>\n",
              "  "
            ],
            "text/plain": [
              "              ID  ...  Like\n",
              "0              0  ...  2404\n",
              "1              1  ...  1231\n",
              "2              2  ...  1052\n",
              "3              3  ...  1045\n",
              "4              4  ...   723\n",
              "...          ...  ...   ...\n",
              "2125051  2125051  ...     0\n",
              "2125052  2125052  ...     0\n",
              "2125053  2125053  ...     0\n",
              "2125054  2125054  ...     0\n",
              "2125055  2125055  ...     0\n",
              "\n",
              "[2125056 rows x 10 columns]"
            ]
          },
          "metadata": {},
          "execution_count": 5
        }
      ]
    },
    {
      "cell_type": "code",
      "metadata": {
        "colab": {
          "base_uri": "https://localhost:8080/"
        },
        "id": "nmCt-NFtRKjF",
        "outputId": "4403fc27-cc20-45c9-ed39-e94063035215"
      },
      "source": [
        "!pip install histograms"
      ],
      "execution_count": null,
      "outputs": [
        {
          "output_type": "stream",
          "name": "stdout",
          "text": [
            "Collecting histograms\n",
            "  Downloading histograms-1.0.0.tar.gz (6.4 kB)\n",
            "Requirement already satisfied: pillow in /usr/local/lib/python3.7/dist-packages (from histograms) (7.1.2)\n",
            "Requirement already satisfied: pandas in /usr/local/lib/python3.7/dist-packages (from histograms) (1.1.5)\n",
            "Requirement already satisfied: scipy in /usr/local/lib/python3.7/dist-packages (from histograms) (1.4.1)\n",
            "Requirement already satisfied: matplotlib in /usr/local/lib/python3.7/dist-packages (from histograms) (3.2.2)\n",
            "Requirement already satisfied: tqdm in /usr/local/lib/python3.7/dist-packages (from histograms) (4.62.0)\n",
            "Requirement already satisfied: humanize in /usr/local/lib/python3.7/dist-packages (from histograms) (0.5.1)\n",
            "Requirement already satisfied: cycler>=0.10 in /usr/local/lib/python3.7/dist-packages (from matplotlib->histograms) (0.10.0)\n",
            "Requirement already satisfied: kiwisolver>=1.0.1 in /usr/local/lib/python3.7/dist-packages (from matplotlib->histograms) (1.3.1)\n",
            "Requirement already satisfied: numpy>=1.11 in /usr/local/lib/python3.7/dist-packages (from matplotlib->histograms) (1.19.5)\n",
            "Requirement already satisfied: pyparsing!=2.0.4,!=2.1.2,!=2.1.6,>=2.0.1 in /usr/local/lib/python3.7/dist-packages (from matplotlib->histograms) (2.4.7)\n",
            "Requirement already satisfied: python-dateutil>=2.1 in /usr/local/lib/python3.7/dist-packages (from matplotlib->histograms) (2.8.2)\n",
            "Requirement already satisfied: six in /usr/local/lib/python3.7/dist-packages (from cycler>=0.10->matplotlib->histograms) (1.15.0)\n",
            "Requirement already satisfied: pytz>=2017.2 in /usr/local/lib/python3.7/dist-packages (from pandas->histograms) (2018.9)\n",
            "Building wheels for collected packages: histograms\n",
            "  Building wheel for histograms (setup.py) ... \u001b[?25l\u001b[?25hdone\n",
            "  Created wheel for histograms: filename=histograms-1.0.0-py3-none-any.whl size=7083 sha256=3c02376be4f09e96dad21dd785dbbe5a23d62dba6b371ec1b5fa60e27472ad0a\n",
            "  Stored in directory: /root/.cache/pip/wheels/02/8e/7c/5dac0e89caead901fab4d4629bb5008d2cc3481e0ece573253\n",
            "Successfully built histograms\n",
            "Installing collected packages: histograms\n",
            "Successfully installed histograms-1.0.0\n"
          ]
        }
      ]
    },
    {
      "cell_type": "code",
      "metadata": {
        "id": "WvDpBx20Ktur"
      },
      "source": [
        "# 전처리 라이브러리 \n",
        "import numpy as np\n",
        "import jieba\n",
        "from keras.preprocessing.text import Tokenizer, text_to_word_sequence\n",
        "from keras_preprocessing.sequence import pad_sequences\n",
        "from keras.preprocessing import sequence\n",
        "from tensorflow.keras.preprocessing.text import Tokenizer\n",
        "from sklearn.model_selection import train_test_split\n",
        "\n",
        "# 모델링 라이브러리 \n",
        "import tensorflow as tf\n",
        "from keras.models import Model\n",
        "from tensorflow.keras.preprocessing.sequence import pad_sequences\n",
        "from tensorflow.keras.models import Sequential\n",
        "from tensorflow.keras.layers import LSTM, Dense, Embedding, GlobalAveragePooling1D, Input, Activation, Dropout\n",
        "from tensorflow.keras.optimizers import RMSprop\n",
        "from tensorflow.keras import regularizers\n",
        "from keras.callbacks import EarlyStopping\n",
        "\n",
        " # 시각화 라이브러리 \n",
        "import matplotlib.pyplot as plt\n",
        "import seaborn as sns\n",
        "#from histograms import histograms"
      ],
      "execution_count": 4,
      "outputs": []
    },
    {
      "cell_type": "code",
      "source": [
        "!pip freeze > requirements.txt"
      ],
      "metadata": {
        "id": "vK-b1M4_n1IL"
      },
      "execution_count": 6,
      "outputs": []
    },
    {
      "cell_type": "code",
      "metadata": {
        "colab": {
          "base_uri": "https://localhost:8080/"
        },
        "id": "PvyXn-BW0JHc",
        "outputId": "2b37c9ea-eaaf-490d-e8e8-b757ac6f563f"
      },
      "source": [
        "df.dtypes"
      ],
      "execution_count": null,
      "outputs": [
        {
          "output_type": "execute_result",
          "data": {
            "text/plain": [
              "ID                int64\n",
              "Movie_Name_EN    object\n",
              "Movie_Name_CN    object\n",
              "Crawl_Date       object\n",
              "Number            int64\n",
              "Username         object\n",
              "Date             object\n",
              "Star              int64\n",
              "Comment          object\n",
              "Like              int64\n",
              "dtype: object"
            ]
          },
          "metadata": {},
          "execution_count": 7
        }
      ]
    },
    {
      "cell_type": "markdown",
      "metadata": {
        "id": "ECcH-BGtsF43"
      },
      "source": [
        "# 3. 데이터 전처리\n",
        "<br>\n",
        "\n"
      ]
    },
    {
      "cell_type": "markdown",
      "metadata": {
        "id": "X32EkZ0Wsna8"
      },
      "source": [
        "## 3-1 데이터 결측값 확인 및 제거"
      ]
    },
    {
      "cell_type": "code",
      "metadata": {
        "id": "OspIot2F0o6a"
      },
      "source": [
        "# N/A 값 확인 및 제거 \n",
        "df.isnull().sum()\n",
        "df = df.dropna()"
      ],
      "execution_count": null,
      "outputs": []
    },
    {
      "cell_type": "markdown",
      "metadata": {
        "id": "DcYfAi8oQKc3"
      },
      "source": [
        "## 3-2 타겟데이터(평점) 재분류"
      ]
    },
    {
      "cell_type": "code",
      "metadata": {
        "colab": {
          "base_uri": "https://localhost:8080/"
        },
        "id": "ct8kLeYi2Ux7",
        "outputId": "69fb1db4-9b4b-4e54-fa43-b04c4eb205a8"
      },
      "source": [
        "# 평점 재분류 // 부정(0), 중립(1), 긍정(2)\n",
        "def restar(row):\n",
        "    if row == 1:\n",
        "        return 0\n",
        "    elif row == 2:\n",
        "        return 0\n",
        "    elif row == 3:\n",
        "        return 1\n",
        "    elif row == 4:\n",
        "        return 2\n",
        "    elif row == 5:\n",
        "        return 2    \n",
        "\n",
        "df['Star'] = df['Star'].apply(restar)\n",
        "df['Star']"
      ],
      "execution_count": null,
      "outputs": [
        {
          "output_type": "stream",
          "name": "stderr",
          "text": [
            "/usr/local/lib/python3.7/dist-packages/ipykernel_launcher.py:14: SettingWithCopyWarning: \n",
            "A value is trying to be set on a copy of a slice from a DataFrame.\n",
            "Try using .loc[row_indexer,col_indexer] = value instead\n",
            "\n",
            "See the caveats in the documentation: https://pandas.pydata.org/pandas-docs/stable/user_guide/indexing.html#returning-a-view-versus-a-copy\n",
            "  \n"
          ]
        },
        {
          "output_type": "execute_result",
          "data": {
            "text/plain": [
              "0          1\n",
              "1          0\n",
              "2          0\n",
              "3          2\n",
              "4          0\n",
              "          ..\n",
              "2125051    2\n",
              "2125052    2\n",
              "2125053    2\n",
              "2125054    2\n",
              "2125055    2\n",
              "Name: Star, Length: 2124907, dtype: object"
            ]
          },
          "metadata": {},
          "execution_count": 9
        }
      ]
    },
    {
      "cell_type": "code",
      "metadata": {
        "colab": {
          "base_uri": "https://localhost:8080/"
        },
        "id": "Txr492N23NW1",
        "outputId": "75d61fc3-16a8-4ffb-e25c-c4131ee74bbf"
      },
      "source": [
        "print(df['Star'].unique())\n",
        "print(df['Star'].value_counts())"
      ],
      "execution_count": null,
      "outputs": [
        {
          "output_type": "stream",
          "name": "stdout",
          "text": [
            "[1 0 2]\n",
            "2    1279804\n",
            "1     474532\n",
            "0     370571\n",
            "Name: Star, dtype: int64\n"
          ]
        }
      ]
    },
    {
      "cell_type": "markdown",
      "metadata": {
        "id": "axbxw7jjsbkc"
      },
      "source": [
        "## 3-3 중국어 토크나이징"
      ]
    },
    {
      "cell_type": "markdown",
      "metadata": {
        "id": "0ymoew-7_S2G"
      },
      "source": [
        "### 불용어 사전을 적용한 중국어 토크나이징 프로세스 with Jieba "
      ]
    },
    {
      "cell_type": "markdown",
      "metadata": {
        "id": "P5Cb7PWJ_CDS"
      },
      "source": [
        "![jieba.png](data:image/png;base64,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)"
      ]
    },
    {
      "cell_type": "code",
      "metadata": {
        "colab": {
          "base_uri": "https://localhost:8080/"
        },
        "id": "Rovr3vnL7Nve",
        "outputId": "d73274cb-641c-4d3b-952d-6a5a136ecd64"
      },
      "source": [
        "# 불용어 사전 정리 \n",
        "def stopwordslist(filepath):  \n",
        "    stopwords = [line.strip() for line in open(filepath, 'r').readlines()] \n",
        "    return stopwords \n",
        "\n",
        "stopwords = stopwordslist('/content/drive/MyDrive/AI_Bootcamp/Data/百度停用词表.txt')\n",
        "\n",
        "print('------------------------ 불용어 사전 ------------------------------------')\n",
        "print(stopwords)\n",
        "\n",
        "# token 분리  # 32분 소요\n",
        "def chinese_word_cut(mytext):\n",
        "    mytext = \" \".join([w for w in list(jieba.cut(mytext)) if w not in stopwords])\n",
        "    return \" \".join(jieba.cut(mytext))"
      ],
      "execution_count": null,
      "outputs": [
        {
          "output_type": "stream",
          "name": "stdout",
          "text": [
            "------------------------ 불용어 사전 ------------------------------------\n",
            "['--', '?', '“', '”', '》', '－－', 'able', 'about', 'above', 'according', 'accordingly', 'across', 'actually', 'after', 'afterwards', 'again', 'against', \"ain't\", 'all', 'allow', 'allows', 'almost', 'alone', 'along', 'already', 'also', 'although', 'always', 'am', 'among', 'amongst', 'an', 'and', 'another', 'any', 'anybody', 'anyhow', 'anyone', 'anything', 'anyway', 'anyways', 'anywhere', 'apart', 'appear', 'appreciate', 'appropriate', 'are', \"aren't\", 'around', 'as', \"a's\", 'aside', 'ask', 'asking', 'associated', 'at', 'available', 'away', 'awfully', 'be', 'became', 'because', 'become', 'becomes', 'becoming', 'been', 'before', 'beforehand', 'behind', 'being', 'believe', 'below', 'beside', 'besides', 'best', 'better', 'between', 'beyond', 'both', 'brief', 'but', 'by', 'came', 'can', 'cannot', 'cant', \"can't\", 'cause', 'causes', 'certain', 'certainly', 'changes', 'clearly', \"c'mon\", 'co', 'com', 'come', 'comes', 'concerning', 'consequently', 'consider', 'considering', 'contain', 'containing', 'contains', 'corresponding', 'could', \"couldn't\", 'course', \"c's\", 'currently', 'definitely', 'described', 'despite', 'did', \"didn't\", 'different', 'do', 'does', \"doesn't\", 'doing', 'done', \"don't\", 'down', 'downwards', 'during', 'each', 'edu', 'eg', 'eight', 'either', 'else', 'elsewhere', 'enough', 'entirely', 'especially', 'et', 'etc', 'even', 'ever', 'every', 'everybody', 'everyone', 'everything', 'everywhere', 'ex', 'exactly', 'example', 'except', 'far', 'few', 'fifth', 'first', 'five', 'followed', 'following', 'follows', 'for', 'former', 'formerly', 'forth', 'four', 'from', 'further', 'furthermore', 'get', 'gets', 'getting', 'given', 'gives', 'go', 'goes', 'going', 'gone', 'got', 'gotten', 'greetings', 'had', \"hadn't\", 'happens', 'hardly', 'has', \"hasn't\", 'have', \"haven't\", 'having', 'he', 'hello', 'help', 'hence', 'her', 'here', 'hereafter', 'hereby', 'herein', \"here's\", 'hereupon', 'hers', 'herself', \"he's\", 'hi', 'him', 'himself', 'his', 'hither', 'hopefully', 'how', 'howbeit', 'however', \"i'd\", 'ie', 'if', 'ignored', \"i'll\", \"i'm\", 'immediate', 'in', 'inasmuch', 'inc', 'indeed', 'indicate', 'indicated', 'indicates', 'inner', 'insofar', 'instead', 'into', 'inward', 'is', \"isn't\", 'it', \"it'd\", \"it'll\", 'its', \"it's\", 'itself', \"i've\", 'just', 'keep', 'keeps', 'kept', 'know', 'known', 'knows', 'last', 'lately', 'later', 'latter', 'latterly', 'least', 'less', 'lest', 'let', \"let's\", 'like', 'liked', 'likely', 'little', 'look', 'looking', 'looks', 'ltd', 'mainly', 'many', 'may', 'maybe', 'me', 'mean', 'meanwhile', 'merely', 'might', 'more', 'moreover', 'most', 'mostly', 'much', 'must', 'my', 'myself', 'name', 'namely', 'nd', 'near', 'nearly', 'necessary', 'need', 'needs', 'neither', 'never', 'nevertheless', 'new', 'next', 'nine', 'no', 'nobody', 'non', 'none', 'noone', 'nor', 'normally', 'not', 'nothing', 'novel', 'now', 'nowhere', 'obviously', 'of', 'off', 'often', 'oh', 'ok', 'okay', 'old', 'on', 'once', 'one', 'ones', 'only', 'onto', 'or', 'other', 'others', 'otherwise', 'ought', 'our', 'ours', 'ourselves', 'out', 'outside', 'over', 'overall', 'own', 'particular', 'particularly', 'per', 'perhaps', 'placed', 'please', 'plus', 'possible', 'presumably', 'probably', 'provides', 'que', 'quite', 'qv', 'rather', 'rd', 're', 'really', 'reasonably', 'regarding', 'regardless', 'regards', 'relatively', 'respectively', 'right', 'said', 'same', 'saw', 'say', 'saying', 'says', 'second', 'secondly', 'see', 'seeing', 'seem', 'seemed', 'seeming', 'seems', 'seen', 'self', 'selves', 'sensible', 'sent', 'serious', 'seriously', 'seven', 'several', 'shall', 'she', 'should', \"shouldn't\", 'since', 'six', 'so', 'some', 'somebody', 'somehow', 'someone', 'something', 'sometime', 'sometimes', 'somewhat', 'somewhere', 'soon', 'sorry', 'specified', 'specify', 'specifying', 'still', 'sub', 'such', 'sup', 'sure', 'take', 'taken', 'tell', 'tends', 'th', 'than', 'thank', 'thanks', 'thanx', 'that', 'thats', \"that's\", 'the', 'their', 'theirs', 'them', 'themselves', 'then', 'thence', 'there', 'thereafter', 'thereby', 'therefore', 'therein', 'theres', \"there's\", 'thereupon', 'these', 'they', \"they'd\", \"they'll\", \"they're\", \"they've\", 'think', 'third', 'this', 'thorough', 'thoroughly', 'those', 'though', 'three', 'through', 'throughout', 'thru', 'thus', 'to', 'together', 'too', 'took', 'toward', 'towards', 'tried', 'tries', 'truly', 'try', 'trying', \"t's\", 'twice', 'two', 'un', 'under', 'unfortunately', 'unless', 'unlikely', 'until', 'unto', 'up', 'upon', 'us', 'use', 'used', 'useful', 'uses', 'using', 'usually', 'value', 'various', 'very', 'via', 'viz', 'vs', 'want', 'wants', 'was', \"wasn't\", 'way', 'we', \"we'd\", 'welcome', 'well', \"we'll\", 'went', 'were', \"we're\", \"weren't\", \"we've\", 'what', 'whatever', \"what's\", 'when', 'whence', 'whenever', 'where', 'whereafter', 'whereas', 'whereby', 'wherein', \"where's\", 'whereupon', 'wherever', 'whether', 'which', 'while', 'whither', 'who', 'whoever', 'whole', 'whom', \"who's\", 'whose', 'why', 'will', 'willing', 'wish', 'with', 'within', 'without', 'wonder', \"won't\", 'would', \"wouldn't\", 'yes', 'yet', 'you', \"you'd\", \"you'll\", 'your', \"you're\", 'yours', 'yourself', 'yourselves', \"you've\", 'zero', 'zt', 'ZT', 'zz', 'ZZ', '一', '一下', '一些', '一切', '一则', '一天', '一定', '一方面', '一旦', '一时', '一来', '一样', '一次', '一片', '一直', '一致', '一般', '一起', '一边', '一面', '万一', '上下', '上升', '上去', '上来', '上述', '上面', '下列', '下去', '下来', '下面', '不一', '不久', '不仅', '不会', '不但', '不光', '不单', '不变', '不只', '不可', '不同', '不够', '不如', '不得', '不怕', '不惟', '不成', '不拘', '不敢', '不断', '不是', '不比', '不然', '不特', '不独', '不管', '不能', '不要', '不论', '不足', '不过', '不问', '与', '与其', '与否', '与此同时', '专门', '且', '两者', '严格', '严重', '个', '个人', '个别', '中小', '中间', '丰富', '临', '为', '为主', '为了', '为什么', '为什麽', '为何', '为着', '主张', '主要', '举行', '乃', '乃至', '么', '之', '之一', '之前', '之后', '之後', '之所以', '之类', '乌乎', '乎', '乘', '也', '也好', '也是', '也罢', '了', '了解', '争取', '于', '于是', '于是乎', '云云', '互相', '产生', '人们', '人家', '什么', '什么样', '什麽', '今后', '今天', '今年', '今後', '仍然', '从', '从事', '从而', '他', '他人', '他们', '他的', '代替', '以', '以上', '以下', '以为', '以便', '以免', '以前', '以及', '以后', '以外', '以後', '以来', '以至', '以至于', '以致', '们', '任', '任何', '任凭', '任务', '企图', '伟大', '似乎', '似的', '但', '但是', '何', '何况', '何处', '何时', '作为', '你', '你们', '你的', '使得', '使用', '例如', '依', '依照', '依靠', '促进', '保持', '俺', '俺们', '倘', '倘使', '倘或', '倘然', '倘若', '假使', '假如', '假若', '做到', '像', '允许', '充分', '先后', '先後', '先生', '全部', '全面', '兮', '共同', '关于', '其', '其一', '其中', '其二', '其他', '其余', '其它', '其实', '其次', '具体', '具体地说', '具体说来', '具有', '再者', '再说', '冒', '冲', '决定', '况且', '准备', '几', '几乎', '几时', '凭', '凭借', '出去', '出来', '出现', '分别', '则', '别', '别的', '别说', '到', '前后', '前者', '前进', '前面', '加之', '加以', '加入', '加强', '十分', '即', '即令', '即使', '即便', '即或', '即若', '却不', '原来', '又', '及', '及其', '及时', '及至', '双方', '反之', '反应', '反映', '反过来', '反过来说', '取得', '受到', '变成', '另', '另一方面', '另外', '只是', '只有', '只要', '只限', '叫', '叫做', '召开', '叮咚', '可', '可以', '可是', '可能', '可见', '各', '各个', '各人', '各位', '各地', '各种', '各级', '各自', '合理', '同', '同一', '同时', '同样', '后来', '后面', '向', '向着', '吓', '吗', '否则', '吧', '吧哒', '吱', '呀', '呃', '呕', '呗', '呜', '呜呼', '呢', '周围', '呵', '呸', '呼哧', '咋', '和', '咚', '咦', '咱', '咱们', '咳', '哇', '哈', '哈哈', '哉', '哎', '哎呀', '哎哟', '哗', '哟', '哦', '哩', '哪', '哪个', '哪些', '哪儿', '哪天', '哪年', '哪怕', '哪样', '哪边', '哪里', '哼', '哼唷', '唉', '啊', '啐', '啥', '啦', '啪达', '喂', '喏', '喔唷', '嗡嗡', '嗬', '嗯', '嗳', '嘎', '嘎登', '嘘', '嘛', '嘻', '嘿', '因', '因为', '因此', '因而', '固然', '在', '在下', '地', '坚决', '坚持', '基本', '处理', '复杂', '多', '多少', '多数', '多次', '大力', '大多数', '大大', '大家', '大批', '大约', '大量', '失去', '她', '她们', '她的', '好的', '好象', '如', '如上所述', '如下', '如何', '如其', '如果', '如此', '如若', '存在', '宁', '宁可', '宁愿', '宁肯', '它', '它们', '它们的', '它的', '安全', '完全', '完成', '实现', '实际', '宣布', '容易', '密切', '对', '对于', '对应', '将', '少数', '尔后', '尚且', '尤其', '就', '就是', '就是说', '尽', '尽管', '属于', '岂但', '左右', '巨大', '巩固', '己', '已经', '帮助', '常常', '并', '并不', '并不是', '并且', '并没有', '广大', '广泛', '应当', '应用', '应该', '开外', '开始', '开展', '引起', '强烈', '强调', '归', '当', '当前', '当时', '当然', '当着', '形成', '彻底', '彼', '彼此', '往', '往往', '待', '後来', '後面', '得', '得出', '得到', '心里', '必然', '必要', '必须', '怎', '怎么', '怎么办', '怎么样', '怎样', '怎麽', '总之', '总是', '总的来看', '总的来说', '总的说来', '总结', '总而言之', '恰恰相反', '您', '意思', '愿意', '慢说', '成为', '我', '我们', '我的', '或', '或是', '或者', '战斗', '所', '所以', '所有', '所谓', '打', '扩大', '把', '抑或', '拿', '按', '按照', '换句话说', '换言之', '据', '掌握', '接着', '接著', '故', '故此', '整个', '方便', '方面', '旁人', '无宁', '无法', '无论', '既', '既是', '既然', '时候', '明显', '明确', '是', '是否', '是的', '显然', '显著', '普通', '普遍', '更加', '曾经', '替', '最后', '最大', '最好', '最後', '最近', '最高', '有', '有些', '有关', '有利', '有力', '有所', '有效', '有时', '有点', '有的', '有着', '有著', '望', '朝', '朝着', '本', '本着', '来', '来着', '极了', '构成', '果然', '果真', '某', '某个', '某些', '根据', '根本', '欢迎', '正在', '正如', '正常', '此', '此外', '此时', '此间', '毋宁', '每', '每个', '每天', '每年', '每当', '比', '比如', '比方', '比较', '毫不', '没有', '沿', '沿着', '注意', '深入', '清楚', '满足', '漫说', '焉', '然则', '然后', '然後', '然而', '照', '照着', '特别是', '特殊', '特点', '现代', '现在', '甚么', '甚而', '甚至', '用', '由', '由于', '由此可见', '的', '的话', '目前', '直到', '直接', '相似', '相信', '相反', '相同', '相对', '相对而言', '相应', '相当', '相等', '省得', '看出', '看到', '看来', '看看', '看见', '真是', '真正', '着', '着呢', '矣', '知道', '确定', '离', '积极', '移动', '突出', '突然', '立即', '第', '等', '等等', '管', '紧接着', '纵', '纵令', '纵使', '纵然', '练习', '组成', '经', '经常', '经过', '结合', '结果', '给', '绝对', '继续', '继而', '维持', '综上所述', '罢了', '考虑', '者', '而', '而且', '而况', '而外', '而已', '而是', '而言', '联系', '能', '能否', '能够', '腾', '自', '自个儿', '自从', '自各儿', '自家', '自己', '自身', '至', '至于', '良好', '若', '若是', '若非', '范围', '莫若', '获得', '虽', '虽则', '虽然', '虽说', '行为', '行动', '表明', '表示', '被', '要', '要不', '要不是', '要不然', '要么', '要是', '要求', '规定', '觉得', '认为', '认真', '认识', '让', '许多', '论', '设使', '设若', '该', '说明', '诸位', '谁', '谁知', '赶', '起', '起来', '起见', '趁', '趁着', '越是', '跟', '转动', '转变', '转贴', '较', '较之', '边', '达到', '迅速', '过', '过去', '过来', '运用', '还是', '还有', '这', '这个', '这么', '这么些', '这么样', '这么点儿', '这些', '这会儿', '这儿', '这就是说', '这时', '这样', '这点', '这种', '这边', '这里', '这麽', '进入', '进步', '进而', '进行', '连', '连同', '适应', '适当', '适用', '逐步', '逐渐', '通常', '通过', '造成', '遇到', '遭到', '避免', '那', '那个', '那么', '那么些', '那么样', '那些', '那会儿', '那儿', '那时', '那样', '那边', '那里', '那麽', '部分', '鄙人', '采取', '里面', '重大', '重新', '重要', '鉴于', '问题', '防止', '阿', '附近', '限制', '除', '除了', '除此之外', '除非', '随', '随着', '随著', '集中', '需要', '非但', '非常', '非徒', '靠', '顺', '顺着', '首先', '高兴', '是不是', '说说', '']\n"
          ]
        }
      ]
    },
    {
      "cell_type": "code",
      "metadata": {
        "colab": {
          "base_uri": "https://localhost:8080/"
        },
        "id": "LZd-7kKw7Q50",
        "outputId": "3877d921-ebdb-480b-a07b-580fa04c79c4"
      },
      "source": [
        "df['Comment'] = df['Comment'].apply(chinese_word_cut)"
      ],
      "execution_count": null,
      "outputs": [
        {
          "output_type": "stream",
          "name": "stderr",
          "text": [
            "Building prefix dict from the default dictionary ...\n",
            "Loading model from cache /tmp/jieba.cache\n",
            "Loading model cost 0.793 seconds.\n",
            "Prefix dict has been built successfully.\n",
            "/usr/local/lib/python3.7/dist-packages/ipykernel_launcher.py:1: SettingWithCopyWarning: \n",
            "A value is trying to be set on a copy of a slice from a DataFrame.\n",
            "Try using .loc[row_indexer,col_indexer] = value instead\n",
            "\n",
            "See the caveats in the documentation: https://pandas.pydata.org/pandas-docs/stable/user_guide/indexing.html#returning-a-view-versus-a-copy\n",
            "  \"\"\"Entry point for launching an IPython kernel.\n"
          ]
        }
      ]
    },
    {
      "cell_type": "markdown",
      "metadata": {
        "id": "MIwB9nQuSDLt"
      },
      "source": [
        "### 토크나이징 결과 확인"
      ]
    },
    {
      "cell_type": "code",
      "metadata": {
        "colab": {
          "base_uri": "https://localhost:8080/"
        },
        "id": "yti5VGoP7WQK",
        "outputId": "48005e85-de47-4c5d-9c36-6fdc9484bca3"
      },
      "source": [
        "# 토크나이징 결과 확인\n",
        "df['Comment'].head(100)"
      ],
      "execution_count": null,
      "outputs": [
        {
          "output_type": "execute_result",
          "data": {
            "text/plain": [
              "0                              奥创   都   整容   去   韩国   。\n",
              "1         失望   ，   剧本   敷衍了事   ，   主线   剧情   没   突破 ...\n",
              "2         2015   年度   最   失望   作品   。   面面俱到   ，   实...\n",
              "3         《   铁人   2   中   勾引   钢铁   侠   ，   《   妇联 ...\n",
              "4                    从头   打 到   尾   ，   真的   很   无聊   。\n",
              "                            ...                        \n",
              "95                                             Shi   剧情\n",
              "96        通篇   洋溢着   「   鸡巴   大   先   说   」   直   男 ...\n",
              "97        刘大勇   你好   ！   字幕   翻译   太烂   ，   节奏   不连贯...\n",
              "98        笑   点   满满   ，   热血   高能   前作   相比   ，   一...\n",
              "99        复联   基本上   情景喜剧   路线   上   拍   ，   人   固定 ...\n",
              "Name: Comment, Length: 100, dtype: object"
            ]
          },
          "metadata": {},
          "execution_count": 13
        }
      ]
    },
    {
      "cell_type": "markdown",
      "metadata": {
        "id": "41-NlF3wT-dm"
      },
      "source": [
        "# 4. 데이터 모델링 준비"
      ]
    },
    {
      "cell_type": "markdown",
      "metadata": {
        "id": "dTOp-KkcSQM-"
      },
      "source": [
        "###4-1 특성 변수 및 타겟 선정, 데이터 분할"
      ]
    },
    {
      "cell_type": "code",
      "metadata": {
        "colab": {
          "base_uri": "https://localhost:8080/"
        },
        "id": "wSxSk9ugzWNS",
        "outputId": "49284198-6b3e-4ccf-f651-d0109b00a03c"
      },
      "source": [
        "# 특성 변수 및 타겟 선정\n",
        "X = df.Comment.astype('str') # 특성변수\n",
        "y = df['Star'] ## 타겟변수(0-2) \n",
        "\n",
        "# 데이터 분할 // 학습/검증/테스트(6:2:2)\n",
        "X_train, X_test, y_train, y_test = train_test_split(X, y, test_size = 0.2, random_state = 42) # 트레인 - 테스트셋 분리\n",
        "X_train, X_valid, y_train, y_valid = train_test_split(X_train, y_train, test_size = 0.2, random_state = 42) # 트레인 - 검증셋 분리\n",
        "\n",
        "print(X_train.shape, y_train.shape, X_valid.shape, y_valid.shape, X_test.shape, y_test.shape)"
      ],
      "execution_count": null,
      "outputs": [
        {
          "output_type": "stream",
          "name": "stdout",
          "text": [
            "(1359940,) (1359940,) (339985,) (339985,) (424982,) (424982,)\n"
          ]
        }
      ]
    },
    {
      "cell_type": "markdown",
      "metadata": {
        "id": "1FpE6nxwUpto"
      },
      "source": [
        "###4-2 모델링을 위한 단어 벡터화"
      ]
    },
    {
      "cell_type": "code",
      "metadata": {
        "id": "ygCIVOy4Gpzd",
        "colab": {
          "base_uri": "https://localhost:8080/"
        },
        "outputId": "1582bb06-5d87-46a1-ff31-ccddd3423390"
      },
      "source": [
        "# 문서 평균 길이\n",
        "print(f'Mean length of train set: {np.mean([len(sent) for sent in X_train], dtype=int)}')"
      ],
      "execution_count": null,
      "outputs": [
        {
          "output_type": "stream",
          "name": "stdout",
          "text": [
            "Mean length of train set: 76\n"
          ]
        }
      ]
    },
    {
      "cell_type": "code",
      "metadata": {
        "id": "TvzMX_Yqfl4e"
      },
      "source": [
        "#단어 토크나이징\n",
        "max_words = 5000\n",
        "max_len = 100\n",
        "tokenizer = Tokenizer(num_words=max_words)\n",
        "tokenizer.fit_on_texts(X_train) # fit_on_texts()안에 코퍼스를 입력으로 하면 빈도수를 기준으로 단어 집합을 생성"
      ],
      "execution_count": null,
      "outputs": []
    },
    {
      "cell_type": "code",
      "metadata": {
        "colab": {
          "base_uri": "https://localhost:8080/"
        },
        "id": "nZURIVr1NYon",
        "outputId": "613280c2-810f-487f-83a7-1f0ec0817743"
      },
      "source": [
        "## 使用word_index属性可以看到每次词对应的编码\n",
        "## 使用word_counts属性可以看到每个词对应的频数\n",
        "for ii,iterm in enumerate(tokenizer.word_index.items()): # 단어별 id값 할당 여부 확인 \n",
        "    if ii < 50:\n",
        "        print(iterm)\n",
        "    else:\n",
        "        break\n",
        "print(\"===================\")  \n",
        "for ii,iterm in enumerate(tokenizer.word_counts.items()): # 단어 카운트 \n",
        "    if ii < 20:\n",
        "        print(iterm)\n",
        "    else:\n",
        "        break"
      ],
      "execution_count": null,
      "outputs": [
        {
          "output_type": "stream",
          "name": "stdout",
          "text": [
            "('，', 1)\n",
            "('。', 2)\n",
            "('！', 3)\n",
            "('看', 4)\n",
            "('很', 5)\n",
            "('电影', 6)\n",
            "('都', 7)\n",
            "('不', 8)\n",
            "('好', 9)\n",
            "('…', 10)\n",
            "('人', 11)\n",
            "('剧情', 12)\n",
            "('还', 13)\n",
            "('？', 14)\n",
            "('不错', 15)\n",
            "('说', 16)\n",
            "('没', 17)\n",
            "('喜欢', 18)\n",
            "('太', 19)\n",
            "('好看', 20)\n",
            "('一个', 21)\n",
            "('真的', 22)\n",
            "('去', 23)\n",
            "('感觉', 24)\n",
            "('故事', 25)\n",
            "('特效', 26)\n",
            "('笑', 27)\n",
            "('一部', 28)\n",
            "('想', 29)\n",
            "('、', 30)\n",
            "('画面', 31)\n",
            "('挺', 32)\n",
            "('会', 33)\n",
            "('上', 34)\n",
            "('完', 35)\n",
            "('这部', 36)\n",
            "('最', 37)\n",
            "('中', 38)\n",
            "('片子', 39)\n",
            "('拍', 40)\n",
            "('点', 41)\n",
            "('小', 42)\n",
            "('演技', 43)\n",
            "('里', 44)\n",
            "('很多', 45)\n",
            "('中国', 46)\n",
            "('国产', 47)\n",
            "('看过', 48)\n",
            "('爱', 49)\n",
            "('大', 50)\n",
            "===================\n",
            "('希望', 19610)\n",
            "('最最', 487)\n",
            "('昂贵', 51)\n",
            "('东西', 13512)\n",
            "('说', 98462)\n",
            "('特别', 20656)\n",
            "('好看', 90970)\n",
            "('，', 2208894)\n",
            "('喜欢', 93019)\n",
            "('。', 1127406)\n",
            "('岳父', 1538)\n",
            "('脑', 2715)\n",
            "('残粉', 2680)\n",
            "('手', 2448)\n",
            "('撕', 5884)\n",
            "('闺蜜', 2699)\n",
            "('拍', 42104)\n",
            "('出新', 403)\n",
            "('高度', 2225)\n",
            "('挺好玩', 517)\n"
          ]
        }
      ]
    },
    {
      "cell_type": "code",
      "metadata": {
        "id": "-Vp0rZ4YNisl"
      },
      "source": [
        "#texts_to_sequences (단어 벡터화)\n",
        "train_seq = tokenizer.texts_to_sequences(X_train)\n",
        "valid_seq = tokenizer.texts_to_sequences(X_valid)\n",
        "test_seq = tokenizer.texts_to_sequences(X_test)"
      ],
      "execution_count": null,
      "outputs": []
    },
    {
      "cell_type": "code",
      "metadata": {
        "colab": {
          "base_uri": "https://localhost:8080/"
        },
        "id": "7mtHqWfzgKyw",
        "outputId": "0f2899a9-e8fc-44f1-8b16-84dc3e9671d5"
      },
      "source": [
        "# padding(문장 길이 픽스)\n",
        "train_pad = sequence.pad_sequences(train_seq, maxlen=max_len)\n",
        "valid_pad = sequence.pad_sequences(valid_seq, maxlen=max_len)\n",
        "test_pad = sequence.pad_sequences(test_seq, maxlen=max_len)\n",
        "\n",
        "print(train_pad.shape)\n",
        "print(valid_pad.shape)\n",
        "print(test_pad.shape)"
      ],
      "execution_count": null,
      "outputs": [
        {
          "output_type": "stream",
          "name": "stdout",
          "text": [
            "(1359940, 100)\n",
            "(339985, 100)\n",
            "(424982, 100)\n"
          ]
        }
      ]
    },
    {
      "cell_type": "markdown",
      "metadata": {
        "id": "KSF_YU7BVOjs"
      },
      "source": [
        "# 5. 데이터 모델링 및 모델 해석"
      ]
    },
    {
      "cell_type": "code",
      "metadata": {
        "id": "9olV5so54lYP"
      },
      "source": [
        "# 랜덤 시드 고정 \n",
        "np.random.seed(42)\n",
        "tf.random.set_seed(42)"
      ],
      "execution_count": null,
      "outputs": []
    },
    {
      "cell_type": "markdown",
      "metadata": {
        "id": "lY2EhTbAWaBx"
      },
      "source": [
        "## 5-1 모델 정의 / 사용 모델 : LSTM"
      ]
    },
    {
      "cell_type": "markdown",
      "metadata": {
        "id": "PFWBvvevZ-Jd"
      },
      "source": [
        "![nlp_processing.png](data:image/png;base64,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)"
      ]
    },
    {
      "cell_type": "markdown",
      "metadata": {
        "id": "26WR1O0xZa9z"
      },
      "source": [
        "![lstm.png](data:image/png;base64,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)"
      ]
    },
    {
      "cell_type": "code",
      "metadata": {
        "colab": {
          "base_uri": "https://localhost:8080/"
        },
        "id": "RZz_O4WePBs-",
        "outputId": "97273484-8250-441e-816f-9ae39699d25a"
      },
      "source": [
        "## 모델 정의\n",
        "inputs = Input(name='inputs',shape=[max_len])\n",
        "layer = Embedding(max_words+1,128,input_length=max_len)(inputs)\n",
        "layer = LSTM(128)(layer)\n",
        "layer = Dense(128,activation='relu', kernel_regularizer=regularizers.l2(0.00001),   \n",
        "                activity_regularizer=regularizers.l1(0.00001), name='FC1')(layer)\n",
        "layer = Dropout(0.2)(layer)\n",
        "layer = Dense(3,activation='softmax',name='FC2')(layer)\n",
        "model = Model(inputs=inputs,outputs=layer)\n",
        "model.summary()\n",
        "model.compile(loss='sparse_categorical_crossentropy', optimizer=RMSprop(), metrics=['accuracy'])"
      ],
      "execution_count": null,
      "outputs": [
        {
          "output_type": "stream",
          "name": "stdout",
          "text": [
            "Model: \"model\"\n",
            "_________________________________________________________________\n",
            "Layer (type)                 Output Shape              Param #   \n",
            "=================================================================\n",
            "inputs (InputLayer)          [(None, 100)]             0         \n",
            "_________________________________________________________________\n",
            "embedding (Embedding)        (None, 100, 128)          640128    \n",
            "_________________________________________________________________\n",
            "lstm (LSTM)                  (None, 128)               131584    \n",
            "_________________________________________________________________\n",
            "FC1 (Dense)                  (None, 128)               16512     \n",
            "_________________________________________________________________\n",
            "dropout (Dropout)            (None, 128)               0         \n",
            "_________________________________________________________________\n",
            "FC2 (Dense)                  (None, 3)                 387       \n",
            "=================================================================\n",
            "Total params: 788,611\n",
            "Trainable params: 788,611\n",
            "Non-trainable params: 0\n",
            "_________________________________________________________________\n"
          ]
        }
      ]
    },
    {
      "cell_type": "markdown",
      "metadata": {
        "id": "HrvV1qyNWgJp"
      },
      "source": [
        "## 5-2 모델링(모델 학습)"
      ]
    },
    {
      "cell_type": "code",
      "metadata": {
        "id": "CGzUcBwfPap9",
        "colab": {
          "base_uri": "https://localhost:8080/"
        },
        "outputId": "b80f2601-9633-48e5-e7e0-519fa872de5e"
      },
      "source": [
        "## 모델링\n",
        "model_fit = model.fit(train_pad, y_train, batch_size=128, epochs=10,\n",
        "                      validation_data=(valid_pad, y_valid), verbose=1)"
      ],
      "execution_count": null,
      "outputs": [
        {
          "output_type": "stream",
          "name": "stdout",
          "text": [
            "Epoch 1/10\n",
            "10625/10625 [==============================] - 2719s 256ms/step - loss: 0.6618 - accuracy: 0.7156 - val_loss: 0.6367 - val_accuracy: 0.7269\n",
            "Epoch 2/10\n",
            "10625/10625 [==============================] - 2723s 256ms/step - loss: 0.6274 - accuracy: 0.7322 - val_loss: 0.6223 - val_accuracy: 0.7342\n",
            "Epoch 3/10\n",
            "10625/10625 [==============================] - 2802s 264ms/step - loss: 0.6175 - accuracy: 0.7375 - val_loss: 0.6232 - val_accuracy: 0.7336\n",
            "Epoch 4/10\n",
            "10625/10625 [==============================] - 2762s 260ms/step - loss: 0.6125 - accuracy: 0.7406 - val_loss: 0.6191 - val_accuracy: 0.7347\n",
            "Epoch 5/10\n",
            "10625/10625 [==============================] - 2829s 266ms/step - loss: 0.6090 - accuracy: 0.7424 - val_loss: 0.6233 - val_accuracy: 0.7349\n",
            "Epoch 6/10\n",
            "10625/10625 [==============================] - 3032s 285ms/step - loss: 0.6068 - accuracy: 0.7442 - val_loss: 0.6198 - val_accuracy: 0.7366\n",
            "Epoch 7/10\n",
            "10625/10625 [==============================] - 3040s 286ms/step - loss: 0.6043 - accuracy: 0.7459 - val_loss: 0.6226 - val_accuracy: 0.7357\n",
            "Epoch 8/10\n",
            "10625/10625 [==============================] - 3044s 286ms/step - loss: 0.6022 - accuracy: 0.7469 - val_loss: 0.6246 - val_accuracy: 0.7362\n",
            "Epoch 9/10\n",
            "10625/10625 [==============================] - 3064s 288ms/step - loss: 0.6006 - accuracy: 0.7481 - val_loss: 0.6260 - val_accuracy: 0.7351\n",
            "Epoch 10/10\n",
            "10625/10625 [==============================] - 3107s 292ms/step - loss: 0.5989 - accuracy: 0.7497 - val_loss: 0.6277 - val_accuracy: 0.7363\n"
          ]
        }
      ]
    },
    {
      "cell_type": "markdown",
      "metadata": {
        "id": "NL39gxbgR2cv"
      },
      "source": [
        "## 5-3 모델 해석"
      ]
    },
    {
      "cell_type": "code",
      "metadata": {
        "id": "Sn2giNeyR_0K",
        "colab": {
          "base_uri": "https://localhost:8080/"
        },
        "outputId": "7719863a-be1f-4dce-ada3-dc527b87387d"
      },
      "source": [
        "accuracy = model.evaluate(test_pad, y_test)"
      ],
      "execution_count": null,
      "outputs": [
        {
          "output_type": "stream",
          "name": "stdout",
          "text": [
            "13281/13281 [==============================] - 457s 34ms/step - loss: 0.6278 - accuracy: 0.7367\n"
          ]
        }
      ]
    },
    {
      "cell_type": "markdown",
      "metadata": {
        "id": "tU0SCUSktxSn"
      },
      "source": [
        "- 테스트셋 정확도"
      ]
    },
    {
      "cell_type": "code",
      "metadata": {
        "colab": {
          "base_uri": "https://localhost:8080/"
        },
        "id": "WQeeZCESANeY",
        "outputId": "c88e5cb7-b122-4350-df6d-880e5d8820ca"
      },
      "source": [
        "print('Test set\\n  Loss: {:0.4f}\\n  Accuracy: {:0.4f}'.format(accuracy[0], accuracy[1]))"
      ],
      "execution_count": null,
      "outputs": [
        {
          "output_type": "stream",
          "name": "stdout",
          "text": [
            "Test set\n",
            "  Loss: 0.6278\n",
            "  Accuracy: 0.7367\n"
          ]
        }
      ]
    },
    {
      "cell_type": "markdown",
      "metadata": {
        "id": "xgAS6V60uQpQ"
      },
      "source": [
        "# 6. 데이터 예측 및 결론"
      ]
    },
    {
      "cell_type": "markdown",
      "metadata": {
        "id": "JN0PkYAdup0M"
      },
      "source": [
        "## 6-1 테스트셋 예측 및 실제 데이터값과 비교"
      ]
    },
    {
      "cell_type": "code",
      "metadata": {
        "id": "CMNbp1yxB_jU"
      },
      "source": [
        "test_review = model.predict(test_pad)"
      ],
      "execution_count": null,
      "outputs": []
    },
    {
      "cell_type": "code",
      "metadata": {
        "id": "M28mnKPMCPdA"
      },
      "source": [
        "# 임의 평점 예측값\n",
        "predict_labels = np.argmax(test_review, axis=1) "
      ],
      "execution_count": null,
      "outputs": []
    },
    {
      "cell_type": "code",
      "metadata": {
        "colab": {
          "base_uri": "https://localhost:8080/"
        },
        "id": "oUoxHYO8ZtXN",
        "outputId": "f9a1be7e-45a5-4e45-ca42-ecdb7cf2b23e"
      },
      "source": [
        "predict_labels[10000:10051]"
      ],
      "execution_count": null,
      "outputs": [
        {
          "output_type": "execute_result",
          "data": {
            "text/plain": [
              "array([1, 2, 2, 2, 2, 0, 2, 2, 2, 0, 2, 2, 2, 1, 2, 2, 2, 2, 2, 2, 2, 0,\n",
              "       1, 2, 2, 2, 2, 2, 2, 1, 2, 2, 2, 2, 1, 2, 2, 0, 2, 0, 2, 2, 2, 0,\n",
              "       1, 0, 2, 0, 1, 0, 2])"
            ]
          },
          "metadata": {},
          "execution_count": 77
        }
      ]
    },
    {
      "cell_type": "code",
      "metadata": {
        "id": "mGQNupywoMd-"
      },
      "source": [
        "# 실제 데이터값\n",
        "sample_y_test = y_test.iloc[10000:10051]"
      ],
      "execution_count": null,
      "outputs": []
    },
    {
      "cell_type": "code",
      "metadata": {
        "colab": {
          "base_uri": "https://localhost:8080/"
        },
        "id": "0OzC_sVfoOgW",
        "outputId": "7ba842fb-bcc8-4313-ec02-d67678928162"
      },
      "source": [
        "print(sample_y_test.to_numpy())"
      ],
      "execution_count": null,
      "outputs": [
        {
          "output_type": "stream",
          "name": "stdout",
          "text": [
            "[1 1 2 2 2 0 2 1 2 0 2 2 2 1 2 2 2 2 2 1 2 1 0 1 2 2 2 2 2 1 2 2 2 2 1 2 2\n",
            " 0 2 0 2 2 1 1 2 2 2 1 1 0 2]\n"
          ]
        }
      ]
    },
    {
      "cell_type": "markdown",
      "metadata": {
        "id": "dcIWY0FHq1KC"
      },
      "source": [
        "- 임의로 지정한 인덱스가 10000부터 10051까지의 50개의 실제 테스트 데이터값과 예측값을 비교한 결과 약 80%의 값이 일치한다. "
      ]
    },
    {
      "cell_type": "markdown",
      "metadata": {
        "id": "b6Vo7cW4veYH"
      },
      "source": [
        "- 해당하는 인덱스의 원본값 확인"
      ]
    },
    {
      "cell_type": "code",
      "metadata": {
        "colab": {
          "base_uri": "https://localhost:8080/",
          "height": 1000
        },
        "id": "Nts3qoAoqSYE",
        "outputId": "19ab883a-dee7-4041-dc32-43690b241aa6"
      },
      "source": [
        "# 원본 리뷰 및 평점 출력값\n",
        "test_review.iloc[10000:10051]"
      ],
      "execution_count": null,
      "outputs": [
        {
          "output_type": "execute_result",
          "data": {
            "text/html": [
              "<div>\n",
              "<style scoped>\n",
              "    .dataframe tbody tr th:only-of-type {\n",
              "        vertical-align: middle;\n",
              "    }\n",
              "\n",
              "    .dataframe tbody tr th {\n",
              "        vertical-align: top;\n",
              "    }\n",
              "\n",
              "    .dataframe thead th {\n",
              "        text-align: right;\n",
              "    }\n",
              "</style>\n",
              "<table border=\"1\" class=\"dataframe\">\n",
              "  <thead>\n",
              "    <tr style=\"text-align: right;\">\n",
              "      <th></th>\n",
              "      <th>Comment</th>\n",
              "      <th>Star</th>\n",
              "    </tr>\n",
              "  </thead>\n",
              "  <tbody>\n",
              "    <tr>\n",
              "      <th>591121</th>\n",
              "      <td>三藏和段小姐的爱情故事~还可以 笑点都有点冷啊 和大话西游不好比的啊 观众确实也越来越难伺...</td>\n",
              "      <td>1</td>\n",
              "    </tr>\n",
              "    <tr>\n",
              "      <th>1279107</th>\n",
              "      <td>场景设计，人物造型，3D特效加分，据说是广电下命令不能怪力乱神所以瞎编了很多应付的？那这电...</td>\n",
              "      <td>1</td>\n",
              "    </tr>\n",
              "    <tr>\n",
              "      <th>1034653</th>\n",
              "      <td>导演还是有一定水平的，两次反转这种至少很对我胃口。（最打动我的是七月第一次找到工作跑像家明...</td>\n",
              "      <td>2</td>\n",
              "    </tr>\n",
              "    <tr>\n",
              "      <th>1801610</th>\n",
              "      <td>男主一行人找到大部队，却被勒令离开...我有点搞不懂那群人怎么想的。（就算要走，走的也应该...</td>\n",
              "      <td>2</td>\n",
              "    </tr>\n",
              "    <tr>\n",
              "      <th>1744273</th>\n",
              "      <td>还是那句话 最可怕的是人心 不过我也没法站在道德的制高点上去判断好坏，在限定的紧急情况下，...</td>\n",
              "      <td>2</td>\n",
              "    </tr>\n",
              "    <tr>\n",
              "      <th>126948</th>\n",
              "      <td>人物关系很恶心，对话很矫情，在电影院看跟看老炮儿一样坐着很恼火，要睡着！</td>\n",
              "      <td>0</td>\n",
              "    </tr>\n",
              "    <tr>\n",
              "      <th>554577</th>\n",
              "      <td>非常不错，笑中带泪。忍不住想看第二遍</td>\n",
              "      <td>2</td>\n",
              "    </tr>\n",
              "    <tr>\n",
              "      <th>780211</th>\n",
              "      <td>理想之境（LA LA LAND）永远丰满迷人，而现实是，有所得必有所失。导演的取向在开头场...</td>\n",
              "      <td>1</td>\n",
              "    </tr>\n",
              "    <tr>\n",
              "      <th>1338755</th>\n",
              "      <td>本来抱着又一国产烂片的目的去看的  结果貌似各方面都没什么缺陷  有笑点有情节有特效  尤...</td>\n",
              "      <td>2</td>\n",
              "    </tr>\n",
              "    <tr>\n",
              "      <th>953498</th>\n",
              "      <td>黄晓明和杨幂还能要求多少呢？女主中学时期不能走心点找顶好看的假发吗？跟个老太婆似的。片中加...</td>\n",
              "      <td>0</td>\n",
              "    </tr>\n",
              "    <tr>\n",
              "      <th>63525</th>\n",
              "      <td>鲲救了湫一命，椿用自己半条命换鲲重生，湫又用自己的命换椿的命，并佑他们幸福。椿对湫说，你对...</td>\n",
              "      <td>2</td>\n",
              "    </tr>\n",
              "    <tr>\n",
              "      <th>1979141</th>\n",
              "      <td>看了奇异博士的第二天看的『你的名字』，两部探讨时间的电影，『你的名字』更胜一筹。与拯救世界...</td>\n",
              "      <td>2</td>\n",
              "    </tr>\n",
              "    <tr>\n",
              "      <th>2022444</th>\n",
              "      <td>场景很美，情节曲折，是一个不错的励志故事。有些情节还是有点吓人的，觉得适合9岁以上的孩子看。</td>\n",
              "      <td>2</td>\n",
              "    </tr>\n",
              "    <tr>\n",
              "      <th>1065962</th>\n",
              "      <td>没那么多感悟，可能是自己的青春实在平淡无其，没那么丰富的情感噢</td>\n",
              "      <td>1</td>\n",
              "    </tr>\n",
              "    <tr>\n",
              "      <th>870328</th>\n",
              "      <td>国产片有这样的效果，认啦！</td>\n",
              "      <td>2</td>\n",
              "    </tr>\n",
              "    <tr>\n",
              "      <th>1747188</th>\n",
              "      <td>棒子一如既往的煸情，但是好看呀，节奏好啊剧情紧凑啊，既激动又感动。</td>\n",
              "      <td>2</td>\n",
              "    </tr>\n",
              "    <tr>\n",
              "      <th>164158</th>\n",
              "      <td>整部剧情如名美国队长3.节奏紧凑衔接完整。不过作为铁罐亲妈吃了一嘴又一嘴玻璃碴QAQ心疼铁罐。</td>\n",
              "      <td>2</td>\n",
              "    </tr>\n",
              "    <tr>\n",
              "      <th>1262456</th>\n",
              "      <td>整个电影的节奏很舒服、色彩运用的也很不错。而且电影感觉很好 没有讲大道理让我舒心多了。</td>\n",
              "      <td>2</td>\n",
              "    </tr>\n",
              "    <tr>\n",
              "      <th>587697</th>\n",
              "      <td>漫威出品，木的说！</td>\n",
              "      <td>2</td>\n",
              "    </tr>\n",
              "    <tr>\n",
              "      <th>570568</th>\n",
              "      <td>看了Avengers后我自认为已经被成功转化为一个MARVEL Popcorn Fan，昨...</td>\n",
              "      <td>1</td>\n",
              "    </tr>\n",
              "    <tr>\n",
              "      <th>1919002</th>\n",
              "      <td>君の名前。你的名字是？泪目😥</td>\n",
              "      <td>2</td>\n",
              "    </tr>\n",
              "    <tr>\n",
              "      <th>1035093</th>\n",
              "      <td>对于这部金马影后的片子很是期待，看完后心中竟然没有泛起一丝丝涟漪。两个女孩，三观不合，经历...</td>\n",
              "      <td>1</td>\n",
              "    </tr>\n",
              "    <tr>\n",
              "      <th>1000628</th>\n",
              "      <td>对于这种情节不停打打杀杀枪林弹雨的“直男片”无感。</td>\n",
              "      <td>0</td>\n",
              "    </tr>\n",
              "    <tr>\n",
              "      <th>1018380</th>\n",
              "      <td>居然还行，比这类型的很多片子拍得好</td>\n",
              "      <td>1</td>\n",
              "    </tr>\n",
              "    <tr>\n",
              "      <th>565675</th>\n",
              "      <td>非常 非常 好看。。。。</td>\n",
              "      <td>2</td>\n",
              "    </tr>\n",
              "    <tr>\n",
              "      <th>2050666</th>\n",
              "      <td>蛮好看的，笑点蛮多</td>\n",
              "      <td>2</td>\n",
              "    </tr>\n",
              "    <tr>\n",
              "      <th>1957839</th>\n",
              "      <td>好看 直男也觉得好看</td>\n",
              "      <td>2</td>\n",
              "    </tr>\n",
              "    <tr>\n",
              "      <th>243009</th>\n",
              "      <td>貌似是JC最后一部动作片，还是要支持一下。相比之前的成龙电影，其实还是有不少创新的。</td>\n",
              "      <td>2</td>\n",
              "    </tr>\n",
              "    <tr>\n",
              "      <th>394948</th>\n",
              "      <td>超赞！！感动，幽默，搞笑！</td>\n",
              "      <td>2</td>\n",
              "    </tr>\n",
              "    <tr>\n",
              "      <th>1024767</th>\n",
              "      <td>喜欢不来，但没有很差。很聪明的选择了女性之间的友情切入，处理细腻，并且成功避免了最狗血的撕...</td>\n",
              "      <td>1</td>\n",
              "    </tr>\n",
              "    <tr>\n",
              "      <th>402173</th>\n",
              "      <td>如果你心中还有对梦想的坚持，对童年的怀念，这部片子真的值得一看。安利的话不多说了，明天还得...</td>\n",
              "      <td>2</td>\n",
              "    </tr>\n",
              "    <tr>\n",
              "      <th>420881</th>\n",
              "      <td>国产动画良心之作，期待续集</td>\n",
              "      <td>2</td>\n",
              "    </tr>\n",
              "    <tr>\n",
              "      <th>2019687</th>\n",
              "      <td>全剧萌点，情节很棒。毛毛赛高，恨不得抓住一只蹭！</td>\n",
              "      <td>2</td>\n",
              "    </tr>\n",
              "    <tr>\n",
              "      <th>1992453</th>\n",
              "      <td>五星无话可说！</td>\n",
              "      <td>2</td>\n",
              "    </tr>\n",
              "    <tr>\n",
              "      <th>918270</th>\n",
              "      <td>其实就还好的感觉，只是隔壁女的笑的太大声肝儿疼！！！</td>\n",
              "      <td>1</td>\n",
              "    </tr>\n",
              "    <tr>\n",
              "      <th>1093527</th>\n",
              "      <td>好莱坞的特技已经做到无与伦比了。。。</td>\n",
              "      <td>2</td>\n",
              "    </tr>\n",
              "    <tr>\n",
              "      <th>85160</th>\n",
              "      <td>也许我本身对鱼群充满了好感（在这之前我已经描述过无数个蓝色的水底世界也许我仍然是那种愿意天...</td>\n",
              "      <td>2</td>\n",
              "    </tr>\n",
              "    <tr>\n",
              "      <th>508273</th>\n",
              "      <td>被之前的炒作骗去的。看完很恶心，假得不行的三观，笑点也一般</td>\n",
              "      <td>0</td>\n",
              "    </tr>\n",
              "    <tr>\n",
              "      <th>926770</th>\n",
              "      <td>不错的片，挺好笑的</td>\n",
              "      <td>2</td>\n",
              "    </tr>\n",
              "    <tr>\n",
              "      <th>1396559</th>\n",
              "      <td>张艺谋什么时候才能放弃他宏大的场面？可怜那么多大牌酱油，张涵予莫名其妙开头就狗带了，那么多...</td>\n",
              "      <td>0</td>\n",
              "    </tr>\n",
              "    <tr>\n",
              "      <th>670583</th>\n",
              "      <td>评分这么低我也是不懂了，看过之后觉得轻轻松松6分以上。前半部分特别搞笑，有徐克在特效也没什...</td>\n",
              "      <td>2</td>\n",
              "    </tr>\n",
              "    <tr>\n",
              "      <th>1760316</th>\n",
              "      <td>给我看哭了</td>\n",
              "      <td>2</td>\n",
              "    </tr>\n",
              "    <tr>\n",
              "      <th>1889824</th>\n",
              "      <td>赶了早场 好像并没有多好</td>\n",
              "      <td>1</td>\n",
              "    </tr>\n",
              "    <tr>\n",
              "      <th>1271242</th>\n",
              "      <td>莫名奇妙的剧情… 钟汉良也太中二了吧………</td>\n",
              "      <td>1</td>\n",
              "    </tr>\n",
              "    <tr>\n",
              "      <th>920576</th>\n",
              "      <td>没有第一部好。为了搞笑而搞笑。不明白为什么票房那么高。</td>\n",
              "      <td>2</td>\n",
              "    </tr>\n",
              "    <tr>\n",
              "      <th>1665380</th>\n",
              "      <td>这是我们的青春</td>\n",
              "      <td>2</td>\n",
              "    </tr>\n",
              "    <tr>\n",
              "      <th>449586</th>\n",
              "      <td>基本上全程都在笑，真的好搞笑！！我们全场都笑得好嗨！不怀旧，正青春！！看到了演员们的真诚！...</td>\n",
              "      <td>2</td>\n",
              "    </tr>\n",
              "    <tr>\n",
              "      <th>1334917</th>\n",
              "      <td>1星给夏雨 2星给唯美特效 ！剧情？呵呵！</td>\n",
              "      <td>1</td>\n",
              "    </tr>\n",
              "    <tr>\n",
              "      <th>647758</th>\n",
              "      <td>妖怪什么的未免太丑陋了一点……好血腥好暴力啊……不得不说结尾有点突兀……并且不喜欢一直引用...</td>\n",
              "      <td>1</td>\n",
              "    </tr>\n",
              "    <tr>\n",
              "      <th>146119</th>\n",
              "      <td>为了大乱斗编出来的狗屎故事</td>\n",
              "      <td>0</td>\n",
              "    </tr>\n",
              "    <tr>\n",
              "      <th>1953248</th>\n",
              "      <td>看完了，无论是画风还是剧情都可以和宫崎骏相媲美</td>\n",
              "      <td>2</td>\n",
              "    </tr>\n",
              "  </tbody>\n",
              "</table>\n",
              "</div>"
            ],
            "text/plain": [
              "                                                   Comment  Star\n",
              "591121    三藏和段小姐的爱情故事~还可以 笑点都有点冷啊 和大话西游不好比的啊 观众确实也越来越难伺...     1\n",
              "1279107   场景设计，人物造型，3D特效加分，据说是广电下命令不能怪力乱神所以瞎编了很多应付的？那这电...     1\n",
              "1034653   导演还是有一定水平的，两次反转这种至少很对我胃口。（最打动我的是七月第一次找到工作跑像家明...     2\n",
              "1801610   男主一行人找到大部队，却被勒令离开...我有点搞不懂那群人怎么想的。（就算要走，走的也应该...     2\n",
              "1744273   还是那句话 最可怕的是人心 不过我也没法站在道德的制高点上去判断好坏，在限定的紧急情况下，...     2\n",
              "126948                人物关系很恶心，对话很矫情，在电影院看跟看老炮儿一样坐着很恼火，要睡着！     0\n",
              "554577                                  非常不错，笑中带泪。忍不住想看第二遍     2\n",
              "780211    理想之境（LA LA LAND）永远丰满迷人，而现实是，有所得必有所失。导演的取向在开头场...     1\n",
              "1338755   本来抱着又一国产烂片的目的去看的  结果貌似各方面都没什么缺陷  有笑点有情节有特效  尤...     2\n",
              "953498    黄晓明和杨幂还能要求多少呢？女主中学时期不能走心点找顶好看的假发吗？跟个老太婆似的。片中加...     0\n",
              "63525     鲲救了湫一命，椿用自己半条命换鲲重生，湫又用自己的命换椿的命，并佑他们幸福。椿对湫说，你对...     2\n",
              "1979141   看了奇异博士的第二天看的『你的名字』，两部探讨时间的电影，『你的名字』更胜一筹。与拯救世界...     2\n",
              "2022444     场景很美，情节曲折，是一个不错的励志故事。有些情节还是有点吓人的，觉得适合9岁以上的孩子看。     2\n",
              "1065962                    没那么多感悟，可能是自己的青春实在平淡无其，没那么丰富的情感噢     1\n",
              "870328                                       国产片有这样的效果，认啦！     2\n",
              "1747188                  棒子一如既往的煸情，但是好看呀，节奏好啊剧情紧凑啊，既激动又感动。     2\n",
              "164158     整部剧情如名美国队长3.节奏紧凑衔接完整。不过作为铁罐亲妈吃了一嘴又一嘴玻璃碴QAQ心疼铁罐。     2\n",
              "1262456        整个电影的节奏很舒服、色彩运用的也很不错。而且电影感觉很好 没有讲大道理让我舒心多了。     2\n",
              "587697                                           漫威出品，木的说！     2\n",
              "570568    看了Avengers后我自认为已经被成功转化为一个MARVEL Popcorn Fan，昨...     1\n",
              "1919002                                     君の名前。你的名字是？泪目😥     2\n",
              "1035093   对于这部金马影后的片子很是期待，看完后心中竟然没有泛起一丝丝涟漪。两个女孩，三观不合，经历...     1\n",
              "1000628                          对于这种情节不停打打杀杀枪林弹雨的“直男片”无感。     0\n",
              "1018380                                  居然还行，比这类型的很多片子拍得好     1\n",
              "565675                                        非常 非常 好看。。。。     2\n",
              "2050666                                          蛮好看的，笑点蛮多     2\n",
              "1957839                                         好看 直男也觉得好看     2\n",
              "243009          貌似是JC最后一部动作片，还是要支持一下。相比之前的成龙电影，其实还是有不少创新的。     2\n",
              "394948                                       超赞！！感动，幽默，搞笑！     2\n",
              "1024767   喜欢不来，但没有很差。很聪明的选择了女性之间的友情切入，处理细腻，并且成功避免了最狗血的撕...     1\n",
              "402173    如果你心中还有对梦想的坚持，对童年的怀念，这部片子真的值得一看。安利的话不多说了，明天还得...     2\n",
              "420881                                       国产动画良心之作，期待续集     2\n",
              "2019687                           全剧萌点，情节很棒。毛毛赛高，恨不得抓住一只蹭！     2\n",
              "1992453                                            五星无话可说！     2\n",
              "918270                          其实就还好的感觉，只是隔壁女的笑的太大声肝儿疼！！！     1\n",
              "1093527                                 好莱坞的特技已经做到无与伦比了。。。     2\n",
              "85160     也许我本身对鱼群充满了好感（在这之前我已经描述过无数个蓝色的水底世界也许我仍然是那种愿意天...     2\n",
              "508273                       被之前的炒作骗去的。看完很恶心，假得不行的三观，笑点也一般     0\n",
              "926770                                           不错的片，挺好笑的     2\n",
              "1396559   张艺谋什么时候才能放弃他宏大的场面？可怜那么多大牌酱油，张涵予莫名其妙开头就狗带了，那么多...     0\n",
              "670583    评分这么低我也是不懂了，看过之后觉得轻轻松松6分以上。前半部分特别搞笑，有徐克在特效也没什...     2\n",
              "1760316                                              给我看哭了     2\n",
              "1889824                                       赶了早场 好像并没有多好     1\n",
              "1271242                              莫名奇妙的剧情… 钟汉良也太中二了吧………     1\n",
              "920576                         没有第一部好。为了搞笑而搞笑。不明白为什么票房那么高。     2\n",
              "1665380                                            这是我们的青春     2\n",
              "449586    基本上全程都在笑，真的好搞笑！！我们全场都笑得好嗨！不怀旧，正青春！！看到了演员们的真诚！...     2\n",
              "1334917                              1星给夏雨 2星给唯美特效 ！剧情？呵呵！     1\n",
              "647758    妖怪什么的未免太丑陋了一点……好血腥好暴力啊……不得不说结尾有点突兀……并且不喜欢一直引用...     1\n",
              "146119                                       为了大乱斗编出来的狗屎故事     0\n",
              "1953248                            看完了，无论是画风还是剧情都可以和宫崎骏相媲美     2"
            ]
          },
          "metadata": {},
          "execution_count": 17
        }
      ]
    },
    {
      "cell_type": "markdown",
      "metadata": {
        "id": "FNk8J9mEvMGP"
      },
      "source": [
        "## 6-2 프로젝트 결론 \n",
        "\n",
        "- epochs 수 조절 등의 추가적인 하이퍼파라미터값을 튜닝할 경우 좀 더 개선된 예측모델이 될 수 있을 것이다. 또한 bert 등의 발전된 모델을 사용하여 다시 모델링을 진행할 계획이다. "
      ]
    }
  ]
}